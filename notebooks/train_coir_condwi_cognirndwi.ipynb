{
 "cells": [
  {
   "cell_type": "code",
   "execution_count": 1,
   "metadata": {},
   "outputs": [],
   "source": [
    "import os \n",
    "\n",
    "# Please specify the folder WaterMAI's path \n",
    "path = \"/home/hoang/Documents/UAVWaterProj/code/WaterMAI\"\n",
    "os.chdir(path)"
   ]
  },
  {
   "cell_type": "code",
   "execution_count": null,
   "metadata": {},
   "outputs": [],
   "source": [
    "!pip3 install -r requirements.txt"
   ]
  },
  {
   "cell_type": "markdown",
   "metadata": {},
   "source": [
    "## MSNet\n",
    "The following cells perform the training of MSNet model on WaterMAI's train set by 3 different modalities **coir**, **condwi** and **cognirndwi**"
   ]
  },
  {
   "cell_type": "code",
   "execution_count": null,
   "metadata": {},
   "outputs": [],
   "source": [
    "# coir\n",
    "! python3 train.py --model msnet --type 'coir' --num_channels 4 \\\n",
    "    --input_folder /content/gdrive/MyDrive/UAVProjectVGU/datasets/finalDatasetMultispec/MultispectralData \\\n",
    "    --epochs 100 --batch-size 4 --learning-rate 0.01 \\\n",
    "        --n_classes 1 --checkpoint-save 10"
   ]
  },
  {
   "cell_type": "code",
   "execution_count": null,
   "metadata": {},
   "outputs": [],
   "source": [
    "# condwi\n",
    "! python3 train.py --model msnet --type 'condwi' --num_channels 4 \\\n",
    "    --input_folder /content/gdrive/MyDrive/UAVProjectVGU/datasets/finalDatasetMultispec/WaterMAI_dataset/temp \\\n",
    "    --epochs 100 --batch-size 4 --learning-rate 0.01 \\\n",
    "        --n_classes 1 --checkpoint-save 10"
   ]
  },
  {
   "cell_type": "code",
   "execution_count": null,
   "metadata": {},
   "outputs": [],
   "source": [
    "# cognirndwi\n",
    "! python3 train.py --model msnet --type 'cognirndwi' --num_channels 6 \\\n",
    "    --input_folder /content/gdrive/MyDrive/UAVProjectVGU/datasets/finalDatasetMultispec/WaterMAI_dataset/temp \\\n",
    "    --epochs 100 --batch-size 4 --learning-rate 0.01 \\\n",
    "        --n_classes 1 --checkpoint-save 10"
   ]
  },
  {
   "cell_type": "markdown",
   "metadata": {},
   "source": [
    "## RTFNet\n",
    "The following cells perform the training of RTFNet model on WaterMAI's train set by 3 different modalities **coir** and **condwi**"
   ]
  },
  {
   "cell_type": "code",
   "execution_count": null,
   "metadata": {},
   "outputs": [],
   "source": [
    "# coir\n",
    "! python3 train.py --model rtfnet --type 'coir' --num_channels 4 \\\n",
    "    --input_folder /content/gdrive/MyDrive/UAVProjectVGU/datasets/finalDatasetMultispec/WaterMAI_dataset/temp \\\n",
    "    --epochs 100 --batch-size 4 --learning-rate 0.01 \\\n",
    "        --n_classes 1 --checkpoint-save 10"
   ]
  },
  {
   "cell_type": "code",
   "execution_count": null,
   "metadata": {},
   "outputs": [],
   "source": [
    "# condwi\n",
    "! python3 train.py --model rtfnet --type 'condwi' --num_channels 4 \\\n",
    "    --input_folder /content/gdrive/MyDrive/UAVProjectVGU/datasets/finalDatasetMultispec/WaterMAI_dataset/temp \\\n",
    "    --epochs 100 --batch-size 4 --learning-rate 0.01 \\\n",
    "        --n_classes 1 --checkpoint-save 10"
   ]
  },
  {
   "cell_type": "markdown",
   "metadata": {},
   "source": [
    "## UNet\n",
    "The following cells perform the training of UNet model on WaterMAI's train set by 3 different modalities **coir**, **condwi** and **cognirndwi**"
   ]
  },
  {
   "cell_type": "code",
   "execution_count": null,
   "metadata": {},
   "outputs": [],
   "source": [
    "# coir\n",
    "! python3 train.py --model unet --type 'coir' --num_channels 4 \\\n",
    "    --input_folder /content/gdrive/MyDrive/UAVProjectVGU/datasets/finalDatasetMultispec/WaterMAI_dataset/temp \\\n",
    "    --epochs 100 --batch-size 4 --learning-rate 0.01 \\\n",
    "        --n_classes 1 --checkpoint-save 10"
   ]
  },
  {
   "cell_type": "code",
   "execution_count": null,
   "metadata": {},
   "outputs": [],
   "source": [
    "# condwi\n",
    "! python3 train.py --model unet --type 'condwi' --num_channels 4 \\\n",
    "    --input_folder /content/gdrive/MyDrive/UAVProjectVGU/datasets/finalDatasetMultispec/WaterMAI_dataset/temp \\\n",
    "    --epochs 100 --batch-size 4 --learning-rate 0.01 \\\n",
    "        --n_classes 1 --checkpoint-save 10"
   ]
  },
  {
   "cell_type": "code",
   "execution_count": null,
   "metadata": {},
   "outputs": [],
   "source": [
    "# cognirndwi\n",
    "! python3 train.py --model unet --type 'cognirndwi' --num_channels 6 \\\n",
    "    --input_folder /content/gdrive/MyDrive/UAVProjectVGU/datasets/finalDatasetMultispec/WaterMAI_dataset/temp \\\n",
    "    --epochs 100 --batch-size 4 --learning-rate 0.01 \\\n",
    "        --n_classes 1 --checkpoint-save 10"
   ]
  }
 ],
 "metadata": {
  "kernelspec": {
   "display_name": "uavwater",
   "language": "python",
   "name": "python3"
  },
  "language_info": {
   "codemirror_mode": {
    "name": "ipython",
    "version": 3
   },
   "file_extension": ".py",
   "mimetype": "text/x-python",
   "name": "python",
   "nbconvert_exporter": "python",
   "pygments_lexer": "ipython3",
   "version": "3.9.18"
  }
 },
 "nbformat": 4,
 "nbformat_minor": 2
}
