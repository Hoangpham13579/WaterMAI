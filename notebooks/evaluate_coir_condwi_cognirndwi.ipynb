{
 "cells": [
  {
   "cell_type": "code",
   "execution_count": 2,
   "metadata": {},
   "outputs": [],
   "source": [
    "import os \n",
    "\n",
    "# Please specify the following path to WaterMAI's folder path \n",
    "path = \"your_path_to/WaterMAI\"\n",
    "os.chdir(path)"
   ]
  },
  {
   "cell_type": "markdown",
   "metadata": {},
   "source": [
    "## MSNet\n",
    "The following cells perform the evaluation of MSNet model on WaterMAI's test set by 3 different modalities **coir**, **condwi** and **cognirndwi**\n",
    "\n",
    "**(NOTE)** Please specify the path of `--input_folder` to the path in your local machine"
   ]
  },
  {
   "cell_type": "code",
   "execution_count": null,
   "metadata": {},
   "outputs": [
    {
     "name": "stdout",
     "output_type": "stream",
     "text": [
      "INFO: Loading model msnet\n",
      "INFO: Using device cuda:0\n",
      "INFO: Model loaded!\n",
      "INFO: Unet prediction:                                                          \n",
      "\tDice score: 0.503\n",
      "\tPrecision: 0.788\n",
      "\tRecall: 0.52\n"
     ]
    }
   ],
   "source": [
    "# coir\n",
    "! python3 evaluate.py --model msnet \\\n",
    "    --weights ./weights/MSNet_coir_checkpoints.pth \\\n",
    "    --input_folder your_path_to/WaterMAI_dataset/test \\\n",
    "        --num_channels 4 --type 'coir' --batch_size 4"
   ]
  },
  {
   "cell_type": "code",
   "execution_count": 31,
   "metadata": {},
   "outputs": [
    {
     "name": "stdout",
     "output_type": "stream",
     "text": [
      "INFO: Loading model msnet\n",
      "INFO: Using device cuda:0\n",
      "INFO: Model loaded!\n",
      "INFO: Unet prediction:                                                          \n",
      "\tDice score: 0.447\n",
      "\tPrecision: 0.66\n",
      "\tRecall: 0.472\n"
     ]
    }
   ],
   "source": [
    "# condwi\n",
    "! python3 evaluate.py --model msnet \\\n",
    "    --weights ./weights/MSNet_condwi_checkpoints.pth \\\n",
    "    --input_folder your_path_to/WaterMAI_dataset/test \\\n",
    "        --num_channels 4 --type 'condwi' --batch_size 4"
   ]
  },
  {
   "cell_type": "code",
   "execution_count": 32,
   "metadata": {},
   "outputs": [
    {
     "name": "stdout",
     "output_type": "stream",
     "text": [
      "INFO: Loading model msnet\n",
      "INFO: Using device cuda:0\n",
      "INFO: Model loaded!\n",
      "INFO: Unet prediction:                                                          \n",
      "\tDice score: 0.555\n",
      "\tPrecision: 0.797\n",
      "\tRecall: 0.581\n"
     ]
    }
   ],
   "source": [
    "# cognirndwi\n",
    "! python3 evaluate.py --model msnet \\\n",
    "    --weights ./weights/MSNet_cognirndwi_checkpoints.pth \\\n",
    "    --input_folder your_path_to/WaterMAI_dataset/test \\\n",
    "        --num_channels 6 --type 'cognirndwi' --batch_size 4"
   ]
  },
  {
   "cell_type": "markdown",
   "metadata": {},
   "source": [
    "## RTFNet\n",
    "The following cells perform the evaluation of RTFNet model on WaterMAI's test set by 2 different modalities **coir** and **condwi**\n",
    "\n",
    "**(NOTE)** Please specify the path of `--input_folder` to the path in your local machine"
   ]
  },
  {
   "cell_type": "code",
   "execution_count": 34,
   "metadata": {},
   "outputs": [
    {
     "name": "stdout",
     "output_type": "stream",
     "text": [
      "Downloading: \"https://download.pytorch.org/models/resnet50-11ad3fa6.pth\" to /home/hoang/.cache/torch/hub/checkpoints/resnet50-11ad3fa6.pth\n",
      "100%|██████████████████████████████████████| 97.8M/97.8M [00:04<00:00, 22.3MB/s]\n",
      "INFO: Loading model rtfnet\n",
      "INFO: Using device cuda:0\n",
      "INFO: Model loaded!\n",
      "INFO: Unet prediction:                                                          \n",
      "\tDice score: 0.519\n",
      "\tPrecision: 0.761\n",
      "\tRecall: 0.539\n"
     ]
    }
   ],
   "source": [
    "# coir\n",
    "! python3 evaluate.py --model rtfnet \\\n",
    "    --weights ./weights/RTFNet_coir_checkpoints.pth \\\n",
    "    --input_folder your_path_to/WaterMAI_dataset/test \\\n",
    "        --num_channels 4 --type 'coir' --batch_size 4"
   ]
  },
  {
   "cell_type": "code",
   "execution_count": 4,
   "metadata": {},
   "outputs": [
    {
     "name": "stdout",
     "output_type": "stream",
     "text": [
      "INFO: Loading model rtfnet\n",
      "INFO: Using device cuda:0\n",
      "INFO: Model loaded!\n",
      "INFO: Unet prediction:                                                          \n",
      "\tDice score: 0.5\n",
      "\tPrecision: 0.739\n",
      "\tRecall: 0.5\n"
     ]
    }
   ],
   "source": [
    "# condwi\n",
    "! python3 evaluate.py --model rtfnet \\\n",
    "    --weights ./weights/RTFNet_condwi_checkpoints.pth \\\n",
    "    --input_folder your_path_to/WaterMAI_dataset/test \\\n",
    "        --num_channels 4 --type 'condwi' --batch_size 4"
   ]
  },
  {
   "cell_type": "markdown",
   "metadata": {},
   "source": [
    "## Unet\n",
    "The following cells perform the evaluation of UNet model on WaterMAI's test set by 3 different modalities **coir**, **condwi** and **cognirndwi**\n",
    "\n",
    "**(NOTE)** Please specify the path of `--input_folder` to the path in your local machine"
   ]
  },
  {
   "cell_type": "code",
   "execution_count": 24,
   "metadata": {},
   "outputs": [
    {
     "name": "stdout",
     "output_type": "stream",
     "text": [
      "INFO: Loading model unet\n",
      "INFO: Using device cuda:0\n",
      "INFO: Model loaded!\n",
      "Validation round:   0%|                               | 0/36 [00:00<?, ?batch/s]/home/hoang/anaconda3/envs/uavwater/lib/python3.9/site-packages/torch/nn/functional.py:1967: UserWarning: nn.functional.sigmoid is deprecated. Use torch.sigmoid instead.\n",
      "  warnings.warn(\"nn.functional.sigmoid is deprecated. Use torch.sigmoid instead.\")\n",
      "INFO: Unet prediction:                                                          \n",
      "\tDice score: 0.565\n",
      "\tPrecision: 0.808\n",
      "\tRecall: 0.569\n"
     ]
    }
   ],
   "source": [
    "# coir\n",
    "! python3 evaluate.py --model unet \\\n",
    "    --weights ./weights/UNet_coir_checkpoints.pth \\\n",
    "    --input_folder your_path_to/WaterMAI_dataset/test \\\n",
    "        --num_channels 4 --type 'coir' --batch_size 4"
   ]
  },
  {
   "cell_type": "code",
   "execution_count": 25,
   "metadata": {},
   "outputs": [
    {
     "name": "stdout",
     "output_type": "stream",
     "text": [
      "INFO: Loading model unet\n",
      "INFO: Using device cuda:0\n",
      "INFO: Model loaded!\n",
      "INFO: Unet prediction:                                                          \n",
      "\tDice score: 0.521\n",
      "\tPrecision: 0.75\n",
      "\tRecall: 0.526\n"
     ]
    }
   ],
   "source": [
    "# condwi\n",
    "! python3 evaluate.py --model unet \\\n",
    "    --weights ./weights/UNet_condwi_checkpoints.pth \\\n",
    "    --input_folder your_path_to/WaterMAI_dataset/test \\\n",
    "        --num_channels 4 --type 'condwi' --batch_size 4"
   ]
  },
  {
   "cell_type": "code",
   "execution_count": 26,
   "metadata": {},
   "outputs": [
    {
     "name": "stdout",
     "output_type": "stream",
     "text": [
      "INFO: Loading model unet\n",
      "INFO: Using device cuda:0\n",
      "INFO: Model loaded!\n",
      "INFO: Unet prediction:                                                          \n",
      "\tDice score: 0.539\n",
      "\tPrecision: 0.808\n",
      "\tRecall: 0.552\n"
     ]
    }
   ],
   "source": [
    "# cognirndwi\n",
    "! python3 evaluate.py --model unet \\\n",
    "    --weights ./weights/UNet_cognirndwi_checkpoints.pth \\\n",
    "    --input_folder your_path_to/WaterMAI_dataset/test \\\n",
    "        --num_channels 6 --type 'cognirndwi' --batch_size 4"
   ]
  },
  {
   "cell_type": "code",
   "execution_count": null,
   "metadata": {},
   "outputs": [],
   "source": []
  }
 ],
 "metadata": {
  "kernelspec": {
   "display_name": "uavwater",
   "language": "python",
   "name": "python3"
  },
  "language_info": {
   "codemirror_mode": {
    "name": "ipython",
    "version": 3
   },
   "file_extension": ".py",
   "mimetype": "text/x-python",
   "name": "python",
   "nbconvert_exporter": "python",
   "pygments_lexer": "ipython3",
   "version": "3.9.18"
  }
 },
 "nbformat": 4,
 "nbformat_minor": 2
}
