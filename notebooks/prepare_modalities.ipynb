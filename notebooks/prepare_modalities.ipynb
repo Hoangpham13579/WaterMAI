{
 "cells": [
  {
   "cell_type": "code",
   "execution_count": 2,
   "metadata": {},
   "outputs": [],
   "source": [
    "import os \n",
    "\n",
    "# Please specify the following path to WaterMAI test or train set\n",
    "path = \"your_path_to/WaterMAI_dataset/test\"\n",
    "os.chdir(path)"
   ]
  },
  {
   "cell_type": "code",
   "execution_count": 3,
   "metadata": {},
   "outputs": [],
   "source": [
    "import numpy as np\n",
    "import shutil\n",
    "import cv2\n",
    "import tifffile as tiff"
   ]
  },
  {
   "cell_type": "code",
   "execution_count": 4,
   "metadata": {},
   "outputs": [],
   "source": [
    "# NDWI\n",
    "def NDWI(G, NIR):\n",
    "    \"\"\"Compute the NDWI\n",
    "    INPUT : G (np.array) -> the Green band images as a numpy array of float\n",
    "            NIR (np.array) -> the Near Infrared images as a numpy array of float\n",
    "    OUTPUT : NDWI (np.array) -> the NDWI\n",
    "    \"\"\"\n",
    "    NDWI = (G - NIR) / (G + NIR + 1e-12)\n",
    "    return NDWI\n",
    "\n",
    "def GreenNirNDWI(greennir):\n",
    "    \"\"\" Input\n",
    "            greennir _ contains only Green and NIR bands \n",
    "    \"\"\"\n",
    "    # compute NDWI (G, NIR)\n",
    "    ndwi = NDWI(greennir[:, :, 0], greennir[:, :, 1])\n",
    "    ndwi = np.round(ndwi).astype(np.uint8)\n",
    "\n",
    "    # define images to further process : R, NIR, NDWI\n",
    "    img_to_process = [greennir[:, :, 0], greennir[:, :, 1], ndwi]\n",
    "\n",
    "    return np.stack(img_to_process, axis=2)"
   ]
  },
  {
   "cell_type": "markdown",
   "metadata": {},
   "source": [
    "## Generate 'Green + NIR + NDWI' (3 bands) images & masks\n",
    "- This cell generate 'Green + NIR + NDWI' (3 bands) images from the **images/color** and **images/ir** folders & saves them in **images/gNirNdwi** folder\n",
    "- This cell generates a label mask named **labels/mask_gnirndwi** for 'Green + NIR + NDWI' images. This label mask is similar to the **labels/mask_co** label mask, with the only difference being the name of each respective folder"
   ]
  },
  {
   "cell_type": "code",
   "execution_count": 6,
   "metadata": {},
   "outputs": [
    {
     "name": "stderr",
     "output_type": "stream",
     "text": [
      "/tmp/ipykernel_911883/1353729320.py:17: RuntimeWarning: invalid value encountered in cast\n",
      "  ndwi = np.round(ndwi).astype(np.uint8)\n"
     ]
    }
   ],
   "source": [
    "# (Green, NIR, NDWI)\n",
    "rgb_dir = './images/color'\n",
    "nir_dir = './images/ir'\n",
    "\n",
    "GNirNdwi_dir = './images/gNirNdwi'\n",
    "if not os.path.exists(GNirNdwi_dir):\n",
    "    os.makedirs(GNirNdwi_dir)\n",
    "\n",
    "# IMAGES\n",
    "file_names = [jpg_f.split('.')[0][:-3] for jpg_f in os.listdir(rgb_dir) if jpg_f.endswith('.jpg')]\n",
    "\n",
    "for name in file_names:\n",
    "    # Full path rgb, nir\n",
    "    rgb_path = os.path.join(rgb_dir, name + '_co.jpg')\n",
    "    nir_path = os.path.join(nir_dir, name + '_ir.jpg')\n",
    "    gnirndwi_path = os.path.join(GNirNdwi_dir, name + '_gnirndwi.jpg')\n",
    "    \n",
    "    # Read the images\n",
    "    rgb_img = cv2.imread(rgb_path)\n",
    "    rgb_img = cv2.cvtColor(rgb_img, cv2.COLOR_BGR2RGB)\n",
    "    nir_img = cv2.imread(nir_path)\n",
    "    \n",
    "    # Construct combination (G, NIR, NDWI)\n",
    "    green = rgb_img[:, :, 1]\n",
    "    nir = nir_img[:, :, 0]\n",
    "    gnirndwi_img = GreenNirNDWI(np.stack([green, nir], axis=2))\n",
    "    \n",
    "    # Save the image as a .jpg file\n",
    "    cv2.imwrite(gnirndwi_path, gnirndwi_img)\n",
    "    \n",
    "    \n",
    "# LABELS\n",
    "co_label = './labels/mask_co'\n",
    "gnirndwi_label = './labels/mask_gnirndwi'\n",
    "if not os.path.exists(gnirndwi_label):\n",
    "    os.makedirs(gnirndwi_label)\n",
    "\n",
    "for source_name in os.listdir(co_label):\n",
    "    if source_name.endswith('.png'):\n",
    "        # Modify the file name as needed\n",
    "        new_name = source_name.replace('_co', '_gnirndwi')\n",
    "        shutil.copy(os.path.join(co_label, source_name), os.path.join(gnirndwi_label, new_name))"
   ]
  },
  {
   "cell_type": "markdown",
   "metadata": {},
   "source": [
    "## Generate 'RGB + NIR' (4 bands) images & masks\n",
    "- This cell generate 'RGB + NIR' (4 bands) images from the **images/color** and **images/ir** folders & saves them in **images/coir** folder\n",
    "- This cell generates a label mask named **labels/mask_coir** for 'RGB + NIR' images. This label mask is similar to the **labels/mask_co** label mask, with the only difference being the name of each respective folder"
   ]
  },
  {
   "cell_type": "code",
   "execution_count": 7,
   "metadata": {},
   "outputs": [],
   "source": [
    "# RGB + NIR _ 4 bands\n",
    "rgb_dir = './images/color'\n",
    "nir_dir = './images/ir'\n",
    "\n",
    "coir_dir = './images/coir'\n",
    "if not os.path.exists(coir_dir):\n",
    "    os.makedirs(coir_dir)\n",
    "\n",
    "# IMAGES\n",
    "file_names = [jpg_f.split('.')[0][:-3] for jpg_f in os.listdir(rgb_dir) if jpg_f.endswith('.jpg')]\n",
    "\n",
    "for name in file_names:\n",
    "    # Full path rgb, nir\n",
    "    rgb_path = os.path.join(rgb_dir, name + '_co.jpg')\n",
    "    nir_path = os.path.join(nir_dir, name + '_ir.jpg')\n",
    "    coir_path = os.path.join(coir_dir, name + '_coir.tiff')\n",
    "    \n",
    "    # Read the images\n",
    "    rgb_img = cv2.imread(rgb_path)\n",
    "    rgb_img = cv2.cvtColor(rgb_img, cv2.COLOR_BGR2RGB)\n",
    "    nir_band = cv2.imread(nir_path)[:, :, 0]    \n",
    "\n",
    "    # Stack the arrays along the third axis (4 bands)\n",
    "    combined_arr = np.stack([rgb_img[:, :, 0], rgb_img[:, :, 1], rgb_img[:, :, 2], nir_band], axis=2)\n",
    "\n",
    "    # Save the new image as a .tiff file\n",
    "    tiff.imwrite(coir_path, combined_arr)\n",
    "    \n",
    "# LABELS\n",
    "co_label = './labels/mask_co'\n",
    "gnirndwi_label = './labels/mask_coir'\n",
    "if not os.path.exists(gnirndwi_label):\n",
    "    os.makedirs(gnirndwi_label)\n",
    "\n",
    "for source_name in os.listdir(co_label):\n",
    "    if source_name.endswith('.png'):\n",
    "        # Modify the file name as needed\n",
    "        new_name = source_name.replace('_co', '_coir')\n",
    "        shutil.copy(os.path.join(co_label, source_name), os.path.join(gnirndwi_label, new_name))"
   ]
  },
  {
   "cell_type": "markdown",
   "metadata": {},
   "source": [
    "## Generate 'RGB + NDWI' (4 bands) images & masks\n",
    "- This cell generate 'RGB + NDWI' (4 bands) images from the **images/color** and **images/ir** folders & saves them in **images/condwi** folder\n",
    "- This cell generates a label mask named **labels/mask_condwi** for 'RGB + NDWI' images. This label mask is similar to the **labels/mask_co** label mask, with the only difference being the name of each respective folder"
   ]
  },
  {
   "cell_type": "code",
   "execution_count": 8,
   "metadata": {},
   "outputs": [
    {
     "name": "stderr",
     "output_type": "stream",
     "text": [
      "/tmp/ipykernel_911883/4039952846.py:24: RuntimeWarning: invalid value encountered in cast\n",
      "  ndwi = np.round(ndwi).astype(np.uint8)\n"
     ]
    }
   ],
   "source": [
    "# RGB + NDWI _ 4 bands\n",
    "rgb_dir = './images/color'\n",
    "nir_dir = './images/ir'\n",
    "\n",
    "condwi_dir = './images/condwi'\n",
    "if not os.path.exists(condwi_dir):\n",
    "    os.makedirs(condwi_dir)\n",
    "\n",
    "# IMAGES\n",
    "file_names = [jpg_f.split('.')[0][:-3] for jpg_f in os.listdir(rgb_dir) if jpg_f.endswith('.jpg')]\n",
    "\n",
    "for name in file_names:\n",
    "    # Full path rgb, nir\n",
    "    rgb_path = os.path.join(rgb_dir, name + '_co.jpg')\n",
    "    nir_path = os.path.join(nir_dir, name + '_ir.jpg')\n",
    "    condwi_path = os.path.join(condwi_dir, name + '_condwi.tiff')\n",
    "    \n",
    "    # Read the images\n",
    "    rgb_img = cv2.imread(rgb_path)\n",
    "    rgb_img = cv2.cvtColor(rgb_img, cv2.COLOR_BGR2RGB)\n",
    "    nir = cv2.imread(nir_path)[:, :, 0]\n",
    "    green = rgb_img[:, :, 1]\n",
    "    ndwi = NDWI(green, nir)\n",
    "    ndwi = np.round(ndwi).astype(np.uint8)\n",
    "\n",
    "    # Stack the arrays along the third axis (4 bands)\n",
    "    combined_arr = np.stack([rgb_img[:, :, 0], rgb_img[:, :, 1], rgb_img[:, :, 2], ndwi], axis=2)\n",
    "\n",
    "    # Save the new image as a .tiff file\n",
    "    tiff.imwrite(condwi_path, combined_arr)\n",
    "\n",
    "# LABELS\n",
    "co_label = './labels/mask_co'\n",
    "gnirndwi_label = './labels/mask_condwi'\n",
    "if not os.path.exists(gnirndwi_label):\n",
    "    os.makedirs(gnirndwi_label)\n",
    "\n",
    "for source_name in os.listdir(co_label):\n",
    "    if source_name.endswith('.png'):\n",
    "        # Modify the file name as needed\n",
    "        new_name = source_name.replace('_co', '_condwi')\n",
    "        shutil.copy(os.path.join(co_label, source_name), os.path.join(gnirndwi_label, new_name))"
   ]
  },
  {
   "cell_type": "markdown",
   "metadata": {},
   "source": [
    "## Generate 'RGB + Green + NIR + NDWI' (6 bands) images & masks\n",
    "- This cell generate 'RGB + Green + NIR + NDWI' (6 bands) images from the **images/color** and **images/ir** folders & saves them in **images/cognirndwi** folder\n",
    "- This cell generates a label mask named **labels/mask_cognirndwi** for 'RGB + Green + NIR + NDWI' images. This label mask is similar to the **labels/mask_co** label mask, with the only difference being the name of each respective folder"
   ]
  },
  {
   "cell_type": "code",
   "execution_count": 9,
   "metadata": {},
   "outputs": [
    {
     "name": "stderr",
     "output_type": "stream",
     "text": [
      "/tmp/ipykernel_911883/1353729320.py:17: RuntimeWarning: invalid value encountered in cast\n",
      "  ndwi = np.round(ndwi).astype(np.uint8)\n"
     ]
    }
   ],
   "source": [
    "# RGB + (Green, NIR, NDWI) _ 6 bands\n",
    "rgb_dir = './images/color'\n",
    "nir_dir = './images/ir'\n",
    "\n",
    "cognirndwi_dir = './images/cognirndwi'\n",
    "if not os.path.exists(cognirndwi_dir):\n",
    "    os.makedirs(cognirndwi_dir)\n",
    "\n",
    "# Get list of file names\n",
    "file_names = [jpg_f.split('.')[0][:-3] for jpg_f in os.listdir(rgb_dir) if jpg_f.endswith('.jpg')]\n",
    "\n",
    "for name in file_names:\n",
    "    # Full path rgb, nir\n",
    "    rgb_path = os.path.join(rgb_dir, name + '_co.jpg')\n",
    "    nir_path = os.path.join(nir_dir, name + '_ir.jpg')\n",
    "    cognirndwi_path = os.path.join(cognirndwi_dir, name + '_cognirndwi.tiff')\n",
    "    \n",
    "    # Read the images\n",
    "    rgb_img = cv2.imread(rgb_path)\n",
    "    rgb_img = cv2.cvtColor(rgb_img, cv2.COLOR_BGR2RGB)\n",
    "    \n",
    "    # Construct combination (G, NIR, NDWI)\n",
    "    green = rgb_img[:, :, 1]\n",
    "    nir = cv2.imread(nir_path)[:, :, 0]\n",
    "    gnirndwi_img = GreenNirNDWI(np.stack([green, nir], axis=2))\n",
    "\n",
    "    # Stack the arrays along the third axis (4 bands)\n",
    "    combined_arr = np.stack([rgb_img[:, :, 0], rgb_img[:, :, 1], rgb_img[:, :, 2],\n",
    "                             gnirndwi_img[:, :, 0], gnirndwi_img[:, :, 1], gnirndwi_img[:, :, 2]], axis=2)\n",
    "\n",
    "    # Save the new image as a .tiff file\n",
    "    tiff.imwrite(cognirndwi_path, combined_arr)\n",
    "    \n",
    "# LABELS\n",
    "co_label = './labels/mask_co'\n",
    "gnirndwi_label = './labels/mask_cognirndwi'\n",
    "if not os.path.exists(gnirndwi_label):\n",
    "    os.makedirs(gnirndwi_label)\n",
    "\n",
    "for source_name in os.listdir(co_label):\n",
    "    if source_name.endswith('.png'):\n",
    "        # Modify the file name as needed\n",
    "        new_name = source_name.replace('_co', '_cognirndwi')\n",
    "        shutil.copy(os.path.join(co_label, source_name), os.path.join(gnirndwi_label, new_name))"
   ]
  },
  {
   "cell_type": "markdown",
   "metadata": {},
   "source": [
    "## Test"
   ]
  },
  {
   "cell_type": "code",
   "execution_count": 10,
   "metadata": {},
   "outputs": [
    {
     "name": "stdout",
     "output_type": "stream",
     "text": [
      "(1300, 1600, 4)\n"
     ]
    }
   ],
   "source": [
    "import tifffile as tiff\n",
    "\n",
    "# Define the path to the .tiff image\n",
    "image_path = './images/condwi/DJI_0020_103_condwi.tiff'\n",
    "\n",
    "# Read the image\n",
    "image = tiff.imread(image_path)\n",
    "print(image.shape)"
   ]
  },
  {
   "cell_type": "code",
   "execution_count": null,
   "metadata": {},
   "outputs": [],
   "source": []
  }
 ],
 "metadata": {
  "kernelspec": {
   "display_name": "uavwater",
   "language": "python",
   "name": "python3"
  },
  "language_info": {
   "codemirror_mode": {
    "name": "ipython",
    "version": 3
   },
   "file_extension": ".py",
   "mimetype": "text/x-python",
   "name": "python",
   "nbconvert_exporter": "python",
   "pygments_lexer": "ipython3",
   "version": "3.9.18"
  }
 },
 "nbformat": 4,
 "nbformat_minor": 2
}
